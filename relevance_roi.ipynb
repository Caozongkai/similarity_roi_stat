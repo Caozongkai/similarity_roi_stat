{
 "cells": [
  {
   "cell_type": "code",
   "execution_count": 1,
   "metadata": {},
   "outputs": [],
   "source": [
    "%matplotlib inline\n",
    "import matplotlib.pyplot as plt\n",
    "plt.style.use('seaborn-whitegrid')\n",
    "import numpy as np\n",
    "import sklearn\n",
    "from sklearn import svm\n",
    "import seaborn as sns\n",
    "import pandas as pd\n",
    "pd.options.display.float_format = '{:.4f}'.format"
   ]
  },
  {
   "cell_type": "code",
   "execution_count": 83,
   "metadata": {},
   "outputs": [],
   "source": [
    "t = pd.read_csv(\"gs_wise_2.txt\", header=None, sep=\"\\t\")\n",
    "t = t.dropna()\n",
    "t.columns = [\"relevance\", \"tran\", \"price\", \"ocpc_bid\"]\n",
    "t[\"click\"] = 1"
   ]
  },
  {
   "cell_type": "code",
   "execution_count": 84,
   "metadata": {
    "scrolled": true
   },
   "outputs": [
    {
     "data": {
      "text/html": [
       "<div>\n",
       "<style scoped>\n",
       "    .dataframe tbody tr th:only-of-type {\n",
       "        vertical-align: middle;\n",
       "    }\n",
       "\n",
       "    .dataframe tbody tr th {\n",
       "        vertical-align: top;\n",
       "    }\n",
       "\n",
       "    .dataframe thead th {\n",
       "        text-align: right;\n",
       "    }\n",
       "</style>\n",
       "<table border=\"1\" class=\"dataframe\">\n",
       "  <thead>\n",
       "    <tr style=\"text-align: right;\">\n",
       "      <th></th>\n",
       "      <th>relevance</th>\n",
       "      <th>tran</th>\n",
       "      <th>price</th>\n",
       "      <th>ocpc_bid</th>\n",
       "      <th>click</th>\n",
       "    </tr>\n",
       "  </thead>\n",
       "  <tbody>\n",
       "    <tr>\n",
       "      <th>0</th>\n",
       "      <td>0.3189</td>\n",
       "      <td>0</td>\n",
       "      <td>112</td>\n",
       "      <td>6000</td>\n",
       "      <td>1</td>\n",
       "    </tr>\n",
       "    <tr>\n",
       "      <th>1</th>\n",
       "      <td>0.2479</td>\n",
       "      <td>0</td>\n",
       "      <td>117</td>\n",
       "      <td>10000</td>\n",
       "      <td>1</td>\n",
       "    </tr>\n",
       "    <tr>\n",
       "      <th>2</th>\n",
       "      <td>0.0349</td>\n",
       "      <td>0</td>\n",
       "      <td>45</td>\n",
       "      <td>800</td>\n",
       "      <td>1</td>\n",
       "    </tr>\n",
       "    <tr>\n",
       "      <th>3</th>\n",
       "      <td>0.2960</td>\n",
       "      <td>0</td>\n",
       "      <td>232</td>\n",
       "      <td>6500</td>\n",
       "      <td>1</td>\n",
       "    </tr>\n",
       "    <tr>\n",
       "      <th>4</th>\n",
       "      <td>0.4281</td>\n",
       "      <td>0</td>\n",
       "      <td>32</td>\n",
       "      <td>500</td>\n",
       "      <td>1</td>\n",
       "    </tr>\n",
       "  </tbody>\n",
       "</table>\n",
       "</div>"
      ],
      "text/plain": [
       "   relevance  tran  price  ocpc_bid  click\n",
       "0     0.3189     0    112      6000      1\n",
       "1     0.2479     0    117     10000      1\n",
       "2     0.0349     0     45       800      1\n",
       "3     0.2960     0    232      6500      1\n",
       "4     0.4281     0     32       500      1"
      ]
     },
     "execution_count": 84,
     "metadata": {},
     "output_type": "execute_result"
    }
   ],
   "source": [
    "t.head()"
   ]
  },
  {
   "cell_type": "code",
   "execution_count": 406,
   "metadata": {
    "scrolled": true
   },
   "outputs": [
    {
     "data": {
      "text/html": [
       "<div>\n",
       "<style scoped>\n",
       "    .dataframe tbody tr th:only-of-type {\n",
       "        vertical-align: middle;\n",
       "    }\n",
       "\n",
       "    .dataframe tbody tr th {\n",
       "        vertical-align: top;\n",
       "    }\n",
       "\n",
       "    .dataframe thead th {\n",
       "        text-align: right;\n",
       "    }\n",
       "</style>\n",
       "<table border=\"1\" class=\"dataframe\">\n",
       "  <thead>\n",
       "    <tr style=\"text-align: right;\">\n",
       "      <th></th>\n",
       "      <th>trans rate</th>\n",
       "      <th>target cost</th>\n",
       "      <th>trans cost</th>\n",
       "      <th>click</th>\n",
       "      <th>trans</th>\n",
       "      <th>price</th>\n",
       "    </tr>\n",
       "  </thead>\n",
       "  <tbody>\n",
       "    <tr>\n",
       "      <th>-1.0000</th>\n",
       "      <td>0.0000</td>\n",
       "      <td>0.0000</td>\n",
       "      <td>0.0000</td>\n",
       "      <td>0.0000</td>\n",
       "      <td>0.0000</td>\n",
       "      <td>0.0000</td>\n",
       "    </tr>\n",
       "    <tr>\n",
       "      <th>-0.9000</th>\n",
       "      <td>0.0000</td>\n",
       "      <td>0.0000</td>\n",
       "      <td>0.0000</td>\n",
       "      <td>0.0000</td>\n",
       "      <td>0.0000</td>\n",
       "      <td>0.0000</td>\n",
       "    </tr>\n",
       "    <tr>\n",
       "      <th>-0.8000</th>\n",
       "      <td>0.0000</td>\n",
       "      <td>0.0000</td>\n",
       "      <td>0.0000</td>\n",
       "      <td>0.0000</td>\n",
       "      <td>0.0000</td>\n",
       "      <td>0.0000</td>\n",
       "    </tr>\n",
       "    <tr>\n",
       "      <th>-0.7000</th>\n",
       "      <td>0.0000</td>\n",
       "      <td>0.0000</td>\n",
       "      <td>0.0000</td>\n",
       "      <td>0.0000</td>\n",
       "      <td>0.0000</td>\n",
       "      <td>0.0000</td>\n",
       "    </tr>\n",
       "    <tr>\n",
       "      <th>-0.6000</th>\n",
       "      <td>0.0000</td>\n",
       "      <td>0.0000</td>\n",
       "      <td>0.0000</td>\n",
       "      <td>0.0000</td>\n",
       "      <td>0.0000</td>\n",
       "      <td>0.0000</td>\n",
       "    </tr>\n",
       "    <tr>\n",
       "      <th>-0.5000</th>\n",
       "      <td>0.0000</td>\n",
       "      <td>0.0000</td>\n",
       "      <td>0.0000</td>\n",
       "      <td>0.0000</td>\n",
       "      <td>0.0000</td>\n",
       "      <td>0.0000</td>\n",
       "    </tr>\n",
       "    <tr>\n",
       "      <th>-0.4000</th>\n",
       "      <td>0.0000</td>\n",
       "      <td>0.0000</td>\n",
       "      <td>-0.0000</td>\n",
       "      <td>-0.0000</td>\n",
       "      <td>0.0000</td>\n",
       "      <td>-0.0000</td>\n",
       "    </tr>\n",
       "    <tr>\n",
       "      <th>-0.3000</th>\n",
       "      <td>0.0000</td>\n",
       "      <td>0.0000</td>\n",
       "      <td>-0.0000</td>\n",
       "      <td>-0.0000</td>\n",
       "      <td>0.0000</td>\n",
       "      <td>-0.0000</td>\n",
       "    </tr>\n",
       "    <tr>\n",
       "      <th>-0.2000</th>\n",
       "      <td>0.0000</td>\n",
       "      <td>-0.0000</td>\n",
       "      <td>-0.0000</td>\n",
       "      <td>-0.0002</td>\n",
       "      <td>-0.0002</td>\n",
       "      <td>-0.0002</td>\n",
       "    </tr>\n",
       "    <tr>\n",
       "      <th>-0.1000</th>\n",
       "      <td>-0.0005</td>\n",
       "      <td>-0.0002</td>\n",
       "      <td>0.0004</td>\n",
       "      <td>-0.0050</td>\n",
       "      <td>-0.0055</td>\n",
       "      <td>-0.0051</td>\n",
       "    </tr>\n",
       "    <tr>\n",
       "      <th>-0.0000</th>\n",
       "      <td>0.0046</td>\n",
       "      <td>-0.0017</td>\n",
       "      <td>-0.0049</td>\n",
       "      <td>-0.0430</td>\n",
       "      <td>-0.0386</td>\n",
       "      <td>-0.0432</td>\n",
       "    </tr>\n",
       "    <tr>\n",
       "      <th>0.1000</th>\n",
       "      <td>0.0160</td>\n",
       "      <td>-0.0042</td>\n",
       "      <td>-0.0190</td>\n",
       "      <td>-0.1661</td>\n",
       "      <td>-0.1527</td>\n",
       "      <td>-0.1688</td>\n",
       "    </tr>\n",
       "    <tr>\n",
       "      <th>0.2000</th>\n",
       "      <td>0.0449</td>\n",
       "      <td>-0.0114</td>\n",
       "      <td>-0.0591</td>\n",
       "      <td>-0.3687</td>\n",
       "      <td>-0.3404</td>\n",
       "      <td>-0.3794</td>\n",
       "    </tr>\n",
       "    <tr>\n",
       "      <th>0.3000</th>\n",
       "      <td>0.0952</td>\n",
       "      <td>-0.0280</td>\n",
       "      <td>-0.1283</td>\n",
       "      <td>-0.5941</td>\n",
       "      <td>-0.5554</td>\n",
       "      <td>-0.6125</td>\n",
       "    </tr>\n",
       "    <tr>\n",
       "      <th>0.4000</th>\n",
       "      <td>0.1936</td>\n",
       "      <td>-0.0616</td>\n",
       "      <td>-0.2288</td>\n",
       "      <td>-0.7840</td>\n",
       "      <td>-0.7421</td>\n",
       "      <td>-0.8011</td>\n",
       "    </tr>\n",
       "    <tr>\n",
       "      <th>0.5000</th>\n",
       "      <td>0.4007</td>\n",
       "      <td>-0.1229</td>\n",
       "      <td>-0.3671</td>\n",
       "      <td>-0.9095</td>\n",
       "      <td>-0.8732</td>\n",
       "      <td>-0.9197</td>\n",
       "    </tr>\n",
       "    <tr>\n",
       "      <th>0.6000</th>\n",
       "      <td>0.7521</td>\n",
       "      <td>-0.2237</td>\n",
       "      <td>-0.5117</td>\n",
       "      <td>-0.9723</td>\n",
       "      <td>-0.9515</td>\n",
       "      <td>-0.9763</td>\n",
       "    </tr>\n",
       "    <tr>\n",
       "      <th>0.7000</th>\n",
       "      <td>0.9057</td>\n",
       "      <td>-0.3770</td>\n",
       "      <td>-0.5701</td>\n",
       "      <td>-0.9949</td>\n",
       "      <td>-0.9903</td>\n",
       "      <td>-0.9958</td>\n",
       "    </tr>\n",
       "    <tr>\n",
       "      <th>0.8000</th>\n",
       "      <td>1.5297</td>\n",
       "      <td>-0.5040</td>\n",
       "      <td>-0.6709</td>\n",
       "      <td>-0.9996</td>\n",
       "      <td>-0.9991</td>\n",
       "      <td>-0.9997</td>\n",
       "    </tr>\n",
       "    <tr>\n",
       "      <th>0.9000</th>\n",
       "      <td>-1.0000</td>\n",
       "      <td>-0.5637</td>\n",
       "      <td>inf</td>\n",
       "      <td>-1.0000</td>\n",
       "      <td>-1.0000</td>\n",
       "      <td>-1.0000</td>\n",
       "    </tr>\n",
       "  </tbody>\n",
       "</table>\n",
       "</div>"
      ],
      "text/plain": [
       "         trans rate  target cost  trans cost   click   trans   price\n",
       "-1.0000      0.0000       0.0000      0.0000  0.0000  0.0000  0.0000\n",
       "-0.9000      0.0000       0.0000      0.0000  0.0000  0.0000  0.0000\n",
       "-0.8000      0.0000       0.0000      0.0000  0.0000  0.0000  0.0000\n",
       "-0.7000      0.0000       0.0000      0.0000  0.0000  0.0000  0.0000\n",
       "-0.6000      0.0000       0.0000      0.0000  0.0000  0.0000  0.0000\n",
       "-0.5000      0.0000       0.0000      0.0000  0.0000  0.0000  0.0000\n",
       "-0.4000      0.0000       0.0000     -0.0000 -0.0000  0.0000 -0.0000\n",
       "-0.3000      0.0000       0.0000     -0.0000 -0.0000  0.0000 -0.0000\n",
       "-0.2000      0.0000      -0.0000     -0.0000 -0.0002 -0.0002 -0.0002\n",
       "-0.1000     -0.0005      -0.0002      0.0004 -0.0050 -0.0055 -0.0051\n",
       "-0.0000      0.0046      -0.0017     -0.0049 -0.0430 -0.0386 -0.0432\n",
       "0.1000       0.0160      -0.0042     -0.0190 -0.1661 -0.1527 -0.1688\n",
       "0.2000       0.0449      -0.0114     -0.0591 -0.3687 -0.3404 -0.3794\n",
       "0.3000       0.0952      -0.0280     -0.1283 -0.5941 -0.5554 -0.6125\n",
       "0.4000       0.1936      -0.0616     -0.2288 -0.7840 -0.7421 -0.8011\n",
       "0.5000       0.4007      -0.1229     -0.3671 -0.9095 -0.8732 -0.9197\n",
       "0.6000       0.7521      -0.2237     -0.5117 -0.9723 -0.9515 -0.9763\n",
       "0.7000       0.9057      -0.3770     -0.5701 -0.9949 -0.9903 -0.9958\n",
       "0.8000       1.5297      -0.5040     -0.6709 -0.9996 -0.9991 -0.9997\n",
       "0.9000      -1.0000      -0.5637         inf -1.0000 -1.0000 -1.0000"
      ]
     },
     "execution_count": 406,
     "metadata": {},
     "output_type": "execute_result"
    }
   ],
   "source": [
    "size = 20\n",
    "lst = np.linspace(-1, 0.9, size)\n",
    "dfs = [t[t[\"relevance\"] > num] for num in lst]\n",
    "\n",
    "base = t.sum()\n",
    "base[\"trans rate\"] = base[\"tran\"] / base[\"click\"]\n",
    "base[\"target cost\"] = base[\"ocpc_bid\"] / base[\"click\"]\n",
    "base[\"trans cost\"] = base[\"price\"] / base[\"tran\"]\n",
    "\n",
    "gps = [df.sum()[[\"tran\", \"price\", \"ocpc_bid\", \"click\"]] for df in dfs]\n",
    "gps = pd.concat(gps, axis=1).T\n",
    "\n",
    "result = pd.DataFrame({\n",
    "    \"trans rate\":(gps[\"tran\"] / gps[\"click\"]) / base[\"trans rate\"] - 1, \n",
    "    \"target cost\":gps[\"ocpc_bid\"] / gps[\"click\"] / base[\"target cost\"] - 1,\n",
    "    \"trans cost\":gps[\"price\"] / gps[\"tran\"] / base[\"trans cost\"] - 1,\n",
    "    \"click\":gps[\"click\"] / base[\"click\"] - 1,\n",
    "    \"price\":gps[\"price\"] / base[\"price\"] - 1,\n",
    "    \"trans\":gps[\"tran\"] / base[\"tran\"] - 1})\n",
    "result.index = np.linspace(-1, 0.9, 20)\n",
    "result = result[[\"trans rate\", \"target cost\", \"trans cost\", \"click\", \"trans\", \"price\"]]\n",
    "result"
   ]
  },
  {
   "cell_type": "code",
   "execution_count": 405,
   "metadata": {},
   "outputs": [
    {
     "data": {
      "text/plain": [
       "0.031311501925657806"
      ]
     },
     "execution_count": 405,
     "metadata": {},
     "output_type": "execute_result"
    }
   ],
   "source": [
    "# base 转化率\n",
    "base_tran_rate = base[\"trans rate\"]\n",
    "base_tran_rate"
   ]
  },
  {
   "cell_type": "code",
   "execution_count": 408,
   "metadata": {
    "scrolled": true
   },
   "outputs": [
    {
     "data": {
      "text/plain": [
       "9809.240575642723"
      ]
     },
     "execution_count": 408,
     "metadata": {},
     "output_type": "execute_result"
    }
   ],
   "source": [
    "# base 目标成本\n",
    "base_target_cost = base[\"target cost\"]\n",
    "base_target_cost"
   ]
  },
  {
   "cell_type": "code",
   "execution_count": 407,
   "metadata": {},
   "outputs": [
    {
     "data": {
      "text/plain": [
       "7160.280093820679"
      ]
     },
     "execution_count": 407,
     "metadata": {},
     "output_type": "execute_result"
    }
   ],
   "source": [
    "# 转化成本\n",
    "base_tran_cost = base[\"trans cost\"]\n",
    "base_tran_cost"
   ]
  },
  {
   "cell_type": "code",
   "execution_count": 414,
   "metadata": {},
   "outputs": [
    {
     "data": {
      "text/plain": [
       "<matplotlib.lines.Line2D at 0x411a65f8>"
      ]
     },
     "execution_count": 414,
     "metadata": {},
     "output_type": "execute_result"
    },
    {
     "data": {
      "image/png": "[encoded data removed]",
      "text/plain": [
       "<matplotlib.figure.Figure at 0x407d3550>"
      ]
     },
     "metadata": {},
     "output_type": "display_data"
    }
   ],
   "source": [
    "plt.plot(np.linspace(-1, 0.9, size), result[\"trans rate\"])\n",
    "plt.axhline(y=0.0, color='red')"
   ]
  },
  {
   "cell_type": "code",
   "execution_count": 416,
   "metadata": {},
   "outputs": [
    {
     "data": {
      "text/plain": [
       "<matplotlib.lines.Line2D at 0x40d26358>"
      ]
     },
     "execution_count": 416,
     "metadata": {},
     "output_type": "execute_result"
    },
    {
     "data": {
      "image/png": "[encoded data removed]",
      "text/plain": [
       "<matplotlib.figure.Figure at 0x3c75a470>"
      ]
     },
     "metadata": {},
     "output_type": "display_data"
    }
   ],
   "source": [
    "plt.plot(np.linspace(-1, 1, size), result[\"target cost\"])\n",
    "plt.axhline(y=0, color='red')"
   ]
  },
  {
   "cell_type": "code",
   "execution_count": 417,
   "metadata": {
    "scrolled": false
   },
   "outputs": [
    {
     "data": {
      "text/plain": [
       "<matplotlib.lines.Line2D at 0x42ec5908>"
      ]
     },
     "execution_count": 417,
     "metadata": {},
     "output_type": "execute_result"
    },
    {
     "data": {
      "image/png": "[encoded data removed]",
      "text/plain": [
       "<matplotlib.figure.Figure at 0x42ec5978>"
      ]
     },
     "metadata": {},
     "output_type": "display_data"
    }
   ],
   "source": [
    "plt.plot(np.linspace(-1, 1, size), result[\"trans cost\"])\n",
    "plt.axhline(y=0, color='red')"
   ]
  },
  {
   "cell_type": "code",
   "execution_count": 421,
   "metadata": {
    "scrolled": true
   },
   "outputs": [],
   "source": [
    "result.to_csv(\"gs_wise_2.csv\")"
   ]
  },
  {
   "cell_type": "code",
   "execution_count": 81,
   "metadata": {},
   "outputs": [],
   "source": [
    "def process(filename):\n",
    "    t = pd.read_csv(filename + \".txt\", header=None, sep=\"\\t\")\n",
    "    t = t.dropna()\n",
    "    t.columns = [\"relevance\", \"tran\", \"price\", \"ocpc_bid\"]\n",
    "    t[\"click\"] = 1\n",
    "\n",
    "    lst = np.linspace(-1, 0.9, size)\n",
    "    dfs = [t[t[\"relevance\"] > num] for num in lst]\n",
    "\n",
    "    base = t.sum()\n",
    "    base[\"trans rate\"] = base[\"tran\"] / base[\"click\"]\n",
    "    base[\"target cost\"] = base[\"ocpc_bid\"] / base[\"click\"]\n",
    "    base[\"trans cost\"] = base[\"price\"] / base[\"tran\"]\n",
    "\n",
    "    gps = [df.sum()[[\"tran\", \"price\", \"ocpc_bid\", \"click\"]] for df in dfs]\n",
    "    gps = pd.concat(gps, axis=1).T\n",
    "\n",
    "    result = pd.DataFrame({\n",
    "        \"trans rate\":(gps[\"tran\"] / gps[\"click\"]) / base[\"trans rate\"] - 1, \n",
    "        \"target cost\":gps[\"ocpc_bid\"] / gps[\"click\"] / base[\"target cost\"] - 1,\n",
    "        \"trans cost\":gps[\"price\"] / gps[\"tran\"] / base[\"trans cost\"] - 1,\n",
    "        \"click\":gps[\"click\"] / base[\"click\"] - 1,\n",
    "        \"price\":gps[\"price\"] / base[\"price\"] - 1,\n",
    "        \"trans\":gps[\"tran\"] / base[\"tran\"] - 1})\n",
    "    result.index = np.linspace(-1, 0.9, size)\n",
    "    result = result[[\"trans rate\", \"target cost\", \"trans cost\", \"click\", \"trans\", \"price\"]]\n",
    "\n",
    "    # base 转化率\n",
    "    base_tran_rate = base[\"trans rate\"]\n",
    "\n",
    "    # base 目标成本\n",
    "    base_target_cost = base[\"target cost\"]\n",
    "\n",
    "    # 转化成本\n",
    "    base_tran_cost = base[\"trans cost\"]\n",
    "\n",
    "    result.to_csv(filename + \".csv\")"
   ]
  },
  {
   "cell_type": "code",
   "execution_count": 82,
   "metadata": {},
   "outputs": [
    {
     "data": {
      "text/plain": [
       "[None, None, None, None]"
      ]
     },
     "execution_count": 82,
     "metadata": {},
     "output_type": "execute_result"
    }
   ],
   "source": [
    "filenames = \"gs_wise_2 gs_wise_14 word_title_2 word_title_14\".split()\n",
    "[process(filename) for filename in filenames]"
   ]
  },
  {
   "cell_type": "code",
   "execution_count": 8,
   "metadata": {},
   "outputs": [],
   "source": [
    "filename = \"base\"\n",
    "size = 50\n",
    "process(filename)"
   ]
  },
  {
   "cell_type": "code",
   "execution_count": 9,
   "metadata": {},
   "outputs": [
    {
     "data": {
      "text/plain": [
       "<function __main__.process>"
      ]
     },
     "execution_count": 9,
     "metadata": {},
     "output_type": "execute_result"
    }
   ],
   "source": [
    "process"
   ]
  },
  {
   "cell_type": "code",
   "execution_count": 85,
   "metadata": {},
   "outputs": [
    {
     "data": {
      "text/plain": [
       "<matplotlib.axes._subplots.AxesSubplot at 0xca7dcc0>"
      ]
     },
     "execution_count": 85,
     "metadata": {},
     "output_type": "execute_result"
    },
    {
     "data": {
      "image/png": "[encoded data removed]",
      "text/plain": [
       "<matplotlib.figure.Figure at 0xc612208>"
      ]
     },
     "metadata": {},
     "output_type": "display_data"
    }
   ],
   "source": [
    "sns.distplot(t[\"relevance\"])"
   ]
  },
  {
   "cell_type": "code",
   "execution_count": null,
   "metadata": {},
   "outputs": [],
   "source": []
  }
 ],
 "metadata": {
  "kernelspec": {
   "display_name": "Python 2",
   "language": "python",
   "name": "python2"
  },
  "language_info": {
   "codemirror_mode": {
    "name": "ipython",
    "version": 2
   },
   "file_extension": ".py",
   "mimetype": "text/x-python",
   "name": "python",
   "nbconvert_exporter": "python",
   "pygments_lexer": "ipython2",
   "version": "2.7.14"
  }
 },
 "nbformat": 4,
 "nbformat_minor": 2
}
